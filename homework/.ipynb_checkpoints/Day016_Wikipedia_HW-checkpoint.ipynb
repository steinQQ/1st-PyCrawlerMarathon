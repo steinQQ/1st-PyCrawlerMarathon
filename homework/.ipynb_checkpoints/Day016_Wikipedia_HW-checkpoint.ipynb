{
 "cells": [
  {
   "cell_type": "markdown",
   "metadata": {},
   "source": [
    "# Wikipedia爬蟲練習\n",
    "## 範例：練習是從Wikipedia中爬取文章。先定義一個搜尋的關鍵字，擷取該關鍵字詞的文章。"
   ]
  },
  {
   "cell_type": "code",
   "execution_count": 13,
   "metadata": {},
   "outputs": [],
   "source": [
    "import requests\n",
    "import re\n",
    "import os\n",
    "from bs4 import BeautifulSoup"
   ]
  },
  {
   "cell_type": "markdown",
   "metadata": {},
   "source": [
    "### 先定義一個我們想搜尋的字詞，並將它轉換成UTF-8編碼後的URL"
   ]
  },
  {
   "cell_type": "code",
   "execution_count": 5,
   "metadata": {},
   "outputs": [
    {
     "name": "stdout",
     "output_type": "stream",
     "text": [
      "電動公共汽車: %E9%9B%BB%E5%8B%95%E5%85%AC%E5%85%B1%E6%B1%BD%E8%BB%8A\n",
      "/wiki/%E9%9B%BB%E5%8B%95%E5%85%AC%E5%85%B1%E6%B1%BD%E8%BB%8A\n"
     ]
    }
   ],
   "source": [
    "input_keyword = \"電動公共汽車\"  # 這裡可以自己定義有興趣的關鍵字\n",
    "\n",
    "utf8_url = repr(input_keyword.encode('UTF-8')).upper()  # 編碼成UTF-8並轉成大寫字元\n",
    "utf8_url = utf8_url.replace(\"\\\\X\", \"%\")                 # 用 '%' 取代 '\\X' \n",
    "print(\"%s: %s\" % (input_keyword, utf8_url[2:-1:1]))     # 擷取中間的編碼結果\n",
    "\n",
    "# 組成Wiki關鍵字搜尋的網址格式\n",
    "root_keyword_link = '/wiki/' + utf8_url[2:-1:1]\n",
    "print(root_keyword_link)"
   ]
  },
  {
   "cell_type": "markdown",
   "metadata": {},
   "source": [
    "### 範例1：送出關鍵字請求後，爬取該關鍵字的文章內容"
   ]
  },
  {
   "cell_type": "code",
   "execution_count": 7,
   "metadata": {},
   "outputs": [
    {
     "name": "stdout",
     "output_type": "stream",
     "text": [
      "電動公共汽車（或電動巴士）是指由電力驅動的公共汽車。\n",
      "\n",
      "電動公共汽車有兩個主要的分類：自給電動巴士和非自給電動巴士。自給電動巴士將能源存儲在車輛內部，而非自給電動巴士從車輛外部獲得源源不斷的電能供應。自給電動巴士主要是電池電動車，其電動機從車載電池中獲取能量。也由少數車型採用其他儲能方式，例如飛輪車（英語：Gyrobus），它採用飛輪儲能裝置儲存能量。非自給電動巴士通過與外界能量供應源的接觸而獲得能量。例如無軌電車的天線。抑或使用非接觸傳導的方式，例如線上電動車（英語：Online Electric Vehicle）。[1]\n",
      "\n",
      "同時使用了內燃機和電力驅動的公共汽車被稱為混合動力電動公共汽車（英語：Hybrid electric bus）或雙模式公共汽車（英語：Dual-mode bus）。這類車輛不在本文範圍之內。\n",
      "\n",
      "當今最為常見的一種電動巴士是純電動巴士。純電動巴士通過車載電池儲存能量。現代純電動巴士一次充電可以支持超過200公里的行程。這類巴士常用於城市公交，它們比傳統的內燃機車輛更加經濟。\n",
      "\n",
      "城市內行駛的主要問題就是加速和制動，這就使得純電動巴士比傳統內燃機巴士更具優勢，因為它們在制動過程中可以將大部分的動能回充給電池，這種特性不但減少了制動磨耗，同時也減少了電量的消耗，同時也改善了城市空氣品質。\n",
      "\n",
      "自駕駛電動巴士是一種電力驅動的自動駕駛車輛，可搭載12名或更多的乘客。自駕駛巴士運行時車內沒有司機，而是使用攝像機，傳感器和遙控設備來正確地轉向。[2]\n",
      "\n",
      "給電動巴士充電不像給內燃機加油那麼簡單，為了使充電過程得到最優化的利用，同時確保電池的正確養護和安全，必須給予特別的關注，監控和計劃。為了克服這些問題，有的運營商購置額外的車輛，這樣他們就可以僅在夜間充電。這是一個安全的解決方案，但是並不經濟，同時也不夠靈活。\n",
      "\n",
      "更恰當的方案是同時兼顧車輛的日常運營和充電需求，使得全局充電計劃儘可能優化。\n",
      "\n",
      "現今，有很多軟體公司能夠幫助公共汽車運營商管理他們的充電計劃，這些方案保證了巴士持續、安全地運行，不會產生計劃外的停擺，亦不會對乘客造成不便。\n",
      "\n",
      "巴士可以使用電容器替代電池來存儲能量。超級電容器存儲的能量大約只有等質量鋰離子電池的百分之五，這限制了它的里程。然而超級電容器相比傳統的電池，能夠更加快速地充電和放電。對於在日常行駛中需要頻繁地有計劃停車的車輛來說，單獨基於超級電容器的能量存儲方式是一種解決方案。[3]\n",
      "\n",
      "中國目前正在測試一款被稱為Capabus的新型電動巴士，它搭載了大型的雙電層電容器，作為儲能裝置，這使得該車運行不需要連續的高架天線，它可以在任意站點停靠時進行快速充電，並且在終點站進行完整充電。\n",
      "\n",
      "Sinautec公司與麻省理工Joel E. Schindall團隊目前正在開發一種基於垂直排列碳奈米管的高能量密度電容，這將會使得設備有更大的表面積來存儲電能。目前為止，該項技術可以存儲的能量已經達到傳統電容器的兩倍，而最終的目標是實現五倍的存儲能力。最終這項技術將產生一種達到傳統鋰電池四分之一存儲能力的電容設備。[4]\n",
      "\n",
      "未來的其他發展方向包括地下無線充電，這省去了高架充電天線。沿線各站點和紅綠燈處都將設有地下無線充電板。\n",
      "\n",
      "鋅空氣電池巴士是一款開發中的40英尺純電動車，使用了一種試商用的電池技術。電力能源公司正在開發這種基於鋅空氣電池和電容器的巴士。鋅空器儲能裝置，通常被看作是一個電池，將鋅轉化成鋅氧化物，在這個過程中會產生能量驅動車輛。巴士無需進行充電，而是通過更換新的鋅來實現能源補充。車輛在測試中的里程表現大約在160公里，並且在拉斯維加斯進行了試用。該技術目前仍處於開發階段，在正式投入使用前仍有一些問題需要解決，例如停靠站點的原料更換基建設施的建設。[5]\n",
      "\n",
      "2014年，第一款純電動校車產品模型交付加州聖華金谷一所學校使用。這款A級校車由Trans Tech（英語：Trans Tech） 公司生產，其使用的電動總成控制系統則是由位於加州福斯特城的公司Motiv Power Systems（英語：Motiv Power Systems）開發。這款校車是該地區訂購的四款車輛之一。該項目是由加州空氣資源局管理的AB118空氣品質改善計劃資助的。\n",
      "\n",
      "多個國家和地區的交管部門都使用了電池電動巴士或其它形式的純電動巴士:\n",
      "\n",
      "\n",
      "\n",
      "\n",
      "\n",
      "2016年全年, 中國有156,000輛電動巴士投入使用。[14]\n",
      "\n",
      "截至2017年, 中國在全球道路上超過385,000輛電動公交車中約占99%。占中國公交車總數的17%。中國的城市每五周能增加9,500個零排放的運輸車輛, 這相當於倫敦的整個運營車輛。[15]\n",
      "\n",
      "\n",
      "\n",
      "香港約有30部電動巴士行走不同路線。\n",
      "\n",
      "\n",
      "\n",
      "\n",
      "\n",
      "\n",
      "\n",
      "\n",
      "\n",
      "\n",
      "\n",
      "\n",
      "\n",
      "\n",
      "\n",
      "\n",
      "\n",
      "\n",
      "\n",
      "\n",
      "\n",
      "\n",
      "\n"
     ]
    }
   ],
   "source": [
    "# 模擬封包的標頭\n",
    "headers = {\n",
    "    'authority': 'zh.wikipedia.org',\n",
    "    'method': 'GET',\n",
    "    'path': '/wiki/' + root_keyword_link,\n",
    "    'scheme': 'https',\n",
    "    'accept': 'text/html,application/xhtml+xml,application/xml;q=0.9,image/webp,image/apng,*/*;q=0.8,application/signed-exchange;v=b3',\n",
    "    'accept-encoding': 'gzip, deflate, br',\n",
    "    'accept-language': 'zh-TW,zh;q=0.9,en-US;q=0.8,en;q=0.7,zh-CN;q=0.6',\n",
    "    'cookie': 'GeoIP=TW:TPE:Taipei:25.05:121.53:v4; TBLkisOn=0; mwPhp7Seed=8b8; WMF-Last-Access-Global=04-Jun-2019; WMF-Last-Access=04-Jun-2019',\n",
    "    'dnt': '1',\n",
    "    #'if-modified-since': 'Tue, 04 Jun 2019 12:03:22 GMT',\n",
    "    'referer': 'https://zh.wikipedia.org/wiki/Wikipedia:%E9%A6%96%E9%A1%B5',\n",
    "    'upgrade-insecure-requests': '1',\n",
    "    'user-agent': 'Mozilla/5.0 (Windows NT 10.0; Win64; x64) AppleWebKit/537.36 (KHTML, like Gecko) Chrome/74.0.3729.169 Safari/537.36'\n",
    "}    \n",
    "\n",
    "url = 'https://zh.wikipedia.org' + root_keyword_link  # 組合關鍵字查詢URL\n",
    "resp = requests.get(url, headers=headers)\n",
    "resp.encoding = 'utf-8'\n",
    "\n",
    "html = BeautifulSoup(resp.text, \"lxml\")\n",
    "content = html.find(name='div', attrs={'id':'mw-content-text'}).find_all(name='p')\n",
    "\n",
    "#\n",
    "# 解析回傳資料，並萃取文章內容\n",
    "#\n",
    "for paragraph in content:\n",
    "    print(paragraph.get_text())\n"
   ]
  },
  {
   "cell_type": "markdown",
   "metadata": {},
   "source": [
    "### 範例2：從爬取的文章內容中，擷取出有外部連結的關鍵字。這些關鍵字在文章中是以藍色字體顯示，會連到外部的網頁，並解釋其內容。"
   ]
  },
  {
   "cell_type": "code",
   "execution_count": 8,
   "metadata": {},
   "outputs": [
    {
     "name": "stdout",
     "output_type": "stream",
     "text": [
      "外部連結: [電力驅動] /wiki/%E7%94%B5%E5%8A%A8%E6%B1%BD%E8%BD%A6\n",
      "外部連結: [公共汽車] /wiki/%E5%85%AC%E5%85%B1%E6%B1%BD%E8%BD%A6\n",
      "外部連結: [電動機] /wiki/%E7%94%B5%E5%8A%A8%E6%9C%BA\n",
      "外部連結: [飛輪車] /wiki/%E9%A3%9B%E8%BC%AA%E8%BB%8A\n",
      "外部連結: [飛輪儲能] /wiki/%E9%A3%9E%E8%BD%AE%E5%82%A8%E8%83%BD\n",
      "外部連結: [無軌電車] /wiki/%E6%97%A0%E8%BD%A8%E7%94%B5%E8%BD%A6\n",
      "外部連結: [內燃機] /wiki/%E5%86%85%E7%87%83%E6%9C%BA\n",
      "外部連結: [雙電層電容器] /wiki/%E5%8F%8C%E7%94%B5%E5%B1%82%E7%94%B5%E5%AE%B9%E5%99%A8\n",
      "外部連結: [終點站] /wiki/%E5%85%AC%E4%BA%A4%E7%B5%82%E9%BB%9E%E7%AB%99\n",
      "外部連結: [麻省理工] /wiki/%E9%BA%BB%E7%9C%81%E7%90%86%E5%B7%A5\n",
      "外部連結: [無線充電] /wiki/%E7%84%A1%E7%B7%9A%E5%85%85%E9%9B%BB\n",
      "外部連結: [聖華金谷] /wiki/%E8%81%96%E8%8F%AF%E9%87%91%E8%B0%B7\n",
      "外部連結: [福斯特城] /wiki/%E7%A6%8F%E6%96%AF%E7%89%B9%E5%9F%8E\n"
     ]
    }
   ],
   "source": [
    "for ext_link in content:\n",
    "    a_tag = ext_link.find_all('a', href=re.compile(\"^(/wiki/)((?!;)\\S)*$\"))\n",
    "    if len(a_tag) > 0:\n",
    "        for link_string in a_tag:\n",
    "            a_link = link_string[\"href\"]       # 外部連結的網址\n",
    "            a_keyword = link_string.get_text()  # 外部連結的中文名稱\n",
    "            print(\"外部連結: [%s] %s\" % (a_keyword, a_link))"
   ]
  },
  {
   "cell_type": "markdown",
   "metadata": {},
   "source": [
    "## 作業：接下來定義一個爬蟲函數，這個函數的主要工作為：\n",
    "### (1) 爬取當前關鍵字的解釋，並存入檔案(因為文章內容太多會佔滿整個頁面，所以存程檔案，方便後續檢視)\n",
    "### (2) 萃取出當前關鍵字所引用的外部連結，當作新的查詢關鍵字\n",
    "### (3) 把第(2)擷取到的關鍵字當作新的關鍵字，回到第(1)步，爬取新的關鍵字解釋。"
   ]
  },
  {
   "cell_type": "code",
   "execution_count": 11,
   "metadata": {},
   "outputs": [],
   "source": [
    "def WikiArticle(key_word_link, key_word, recursive):\n",
    "    \n",
    "    if (recursive <= max_recursive_depth):\n",
    "        print(\"遞迴層[%d] - %s (%s)\" % (recursive, key_word_link, key_word))\n",
    "        \n",
    "        # 模擬封包的標頭\n",
    "        headers = {\n",
    "            'authority': 'zh.wikipedia.org',\n",
    "            'method': 'GET',\n",
    "            'path': '/wiki/' + key_word_link,\n",
    "            'scheme': 'https',\n",
    "            'accept': 'text/html,application/xhtml+xml,application/xml;q=0.9,image/webp,image/apng,*/*;q=0.8,application/signed-exchange;v=b3',\n",
    "            'accept-encoding': 'gzip, deflate, br',\n",
    "            'accept-language': 'zh-TW,zh;q=0.9,en-US;q=0.8,en;q=0.7,zh-CN;q=0.6',\n",
    "            'cookie': 'GeoIP=TW:TPE:Taipei:25.05:121.53:v4; TBLkisOn=0; mwPhp7Seed=8b8; WMF-Last-Access-Global=04-Jun-2019; WMF-Last-Access=04-Jun-2019',\n",
    "            'dnt': '1',\n",
    "            #'if-modified-since': 'Tue, 04 Jun 2019 12:03:22 GMT',\n",
    "            'referer': 'https://zh.wikipedia.org/wiki/Wikipedia:%E9%A6%96%E9%A1%B5',\n",
    "            'upgrade-insecure-requests': '1',\n",
    "            'user-agent': 'Mozilla/5.0 (Windows NT 10.0; Win64; x64) AppleWebKit/537.36 (KHTML, like Gecko) Chrome/74.0.3729.169 Safari/537.36'\n",
    "        }    \n",
    "\n",
    "        url = 'https://zh.wikipedia.org' + key_word_link  # 組合關鍵字查詢URL\n",
    "        resp = requests.get(url, headers=headers)\n",
    "        resp.encoding = 'utf-8'\n",
    "\n",
    "        html = BeautifulSoup(resp.text, \"lxml\")\n",
    "        content = html.find(name='div', attrs={'id':'mw-content-text'}).find_all(name='p')\n",
    "        \n",
    "        #\n",
    "        # Part 1: 請參考範例1，爬取當前關鍵字的文章內容。\n",
    "        #         因為內容太多，我們把它寫入檔案，並以關鍵字作為檔案名稱，以便稍後查閱內容。\n",
    "        #         請先建立一個名為\"WikiArticle\"的資料夾，爬取到的文章內容會放在這個資料夾底下。\n",
    "        #\n",
    "        output_dir = 'WikiArticle'\n",
    "\n",
    "        if not os.path.exists(output_dir):\n",
    "            os.makedirs(output_dir)\n",
    "            \n",
    "        output_file = '{outdir}/{outfile}.txt'.format(\n",
    "            outdir=output_dir, outfile=key_word.replace('/', '_'))\n",
    "        \n",
    "        if os.path.exists(output_file):\n",
    "            os.remove(output_file)\n",
    "\n",
    "        with open(output_file, \"w\", encoding=\"utf-8\") as fh:\n",
    "            for paragraph in content:\n",
    "                f = fh.write(paragraph.get_text())\n",
    "        #\n",
    "        #\n",
    "        # Part 2: 請參考範例2，萃取出本篇文章中所延伸引用的外部連結，並儲存在external_link_dict\n",
    "        #\n",
    "        external_link_dict = dict({})\n",
    "        \n",
    "        for ext_link in content:\n",
    "            a_tag = ext_link.find_all('a', href=re.compile(\"^(/wiki/)((?!;)\\S)*$\"))\n",
    "            if len(a_tag) > 0:\n",
    "                for link_string in a_tag:\n",
    "                    a_link = link_string[\"href\"]       # 外部連結的網址\n",
    "                    a_keyword = link_string.get_text()  # 外部連結的中文名稱\n",
    "#                     print(\"外部連結: [%s] %s\" % (a_keyword, a_link))\n",
    "                    external_link_dict[a_link] = a_keyword\n",
    "#         print(external_link_dict)\n",
    " \n",
    "                    \n",
    "        #\n",
    "        # Part 3: 將Part 2所收集的外部連結，當作新的關鍵字，繼續迭代深入爬蟲\n",
    "        #\n",
    "        if (len(external_link_dict) > 0):\n",
    "            \n",
    "            recursive = recursive + 1  # 遞迴深度加1\n",
    "            \n",
    "            for k, v in external_link_dict.items():\n",
    "                WikiArticle(k, v, recursive)  # 再次呼叫同樣的函數，執行同樣的流程\n",
    "                "
   ]
  },
  {
   "cell_type": "markdown",
   "metadata": {},
   "source": [
    "### 執行前個步驟定義好的爬蟲主程式"
   ]
  },
  {
   "cell_type": "code",
   "execution_count": 14,
   "metadata": {},
   "outputs": [
    {
     "name": "stdout",
     "output_type": "stream",
     "text": [
      "遞迴層[0] - /wiki/%E9%9B%BB%E5%8B%95%E5%85%AC%E5%85%B1%E6%B1%BD%E8%BB%8A (電動公共汽車)\n",
      "遞迴層[1] - /wiki/%E7%94%B5%E5%8A%A8%E6%B1%BD%E8%BD%A6 (電力驅動)\n",
      "遞迴層[1] - /wiki/%E5%85%AC%E5%85%B1%E6%B1%BD%E8%BD%A6 (公共汽車)\n",
      "遞迴層[1] - /wiki/%E7%94%B5%E5%8A%A8%E6%9C%BA (電動機)\n",
      "遞迴層[1] - /wiki/%E9%A3%9B%E8%BC%AA%E8%BB%8A (飛輪車)\n",
      "遞迴層[1] - /wiki/%E9%A3%9E%E8%BD%AE%E5%82%A8%E8%83%BD (飛輪儲能)\n",
      "遞迴層[1] - /wiki/%E6%97%A0%E8%BD%A8%E7%94%B5%E8%BD%A6 (無軌電車)\n",
      "遞迴層[1] - /wiki/%E5%86%85%E7%87%83%E6%9C%BA (內燃機)\n",
      "遞迴層[1] - /wiki/%E5%8F%8C%E7%94%B5%E5%B1%82%E7%94%B5%E5%AE%B9%E5%99%A8 (雙電層電容器)\n",
      "遞迴層[1] - /wiki/%E5%85%AC%E4%BA%A4%E7%B5%82%E9%BB%9E%E7%AB%99 (終點站)\n",
      "遞迴層[1] - /wiki/%E9%BA%BB%E7%9C%81%E7%90%86%E5%B7%A5 (麻省理工)\n",
      "遞迴層[1] - /wiki/%E7%84%A1%E7%B7%9A%E5%85%85%E9%9B%BB (無線充電)\n",
      "遞迴層[1] - /wiki/%E8%81%96%E8%8F%AF%E9%87%91%E8%B0%B7 (聖華金谷)\n",
      "遞迴層[1] - /wiki/%E7%A6%8F%E6%96%AF%E7%89%B9%E5%9F%8E (福斯特城)\n"
     ]
    }
   ],
   "source": [
    "# 定義爬取的遞迴深度。深度不要訂太深，否則會爬很久。\n",
    "max_recursive_depth = 1\n",
    "\n",
    "WikiArticle(root_keyword_link, input_keyword, 0)"
   ]
  },
  {
   "cell_type": "code",
   "execution_count": null,
   "metadata": {},
   "outputs": [],
   "source": []
  }
 ],
 "metadata": {
  "kernelspec": {
   "display_name": "Python 3",
   "language": "python",
   "name": "python3"
  },
  "language_info": {
   "codemirror_mode": {
    "name": "ipython",
    "version": 3
   },
   "file_extension": ".py",
   "mimetype": "text/x-python",
   "name": "python",
   "nbconvert_exporter": "python",
   "pygments_lexer": "ipython3",
   "version": "3.7.1"
  }
 },
 "nbformat": 4,
 "nbformat_minor": 2
}
